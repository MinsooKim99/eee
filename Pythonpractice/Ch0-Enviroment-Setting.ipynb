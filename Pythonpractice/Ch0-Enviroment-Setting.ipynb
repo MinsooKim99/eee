{
 "cells": [
  {
   "cell_type": "markdown",
   "id": "cd62684e",
   "metadata": {},
   "source": [
    "# Ch0 Enviroment Setting"
   ]
  },
  {
   "cell_type": "code",
   "execution_count": 1,
   "id": "fea7c628",
   "metadata": {},
   "outputs": [
    {
     "name": "stdout",
     "output_type": "stream",
     "text": [
      "2018152002\n",
      "김민수\n"
     ]
    }
   ],
   "source": [
    "num=2018152002\n",
    "name='김민수'\n",
    "print(num)\n",
    "print(name)"
   ]
  },
  {
   "cell_type": "code",
   "execution_count": 6,
   "id": "29fc8ea7",
   "metadata": {},
   "outputs": [
    {
     "name": "stdout",
     "output_type": "stream",
     "text": [
      "[5, 4, 3, 2, 1]\n"
     ]
    }
   ],
   "source": [
    "#list 내장함수 이용\n",
    "a=[3,5,2,4,1] #5,4,3,2,1로 수정하기\n",
    "#a.sort()\n",
    "#a.reverse()\n",
    "b=list(sorted(a,reverse=True))\n",
    "print(b)"
   ]
  },
  {
   "cell_type": "code",
   "execution_count": null,
   "id": "89ef2fa6",
   "metadata": {},
   "outputs": [],
   "source": []
  }
 ],
 "metadata": {
  "kernelspec": {
   "display_name": "Python 3",
   "language": "python",
   "name": "python3"
  },
  "language_info": {
   "codemirror_mode": {
    "name": "ipython",
    "version": 3
   },
   "file_extension": ".py",
   "mimetype": "text/x-python",
   "name": "python",
   "nbconvert_exporter": "python",
   "pygments_lexer": "ipython3",
   "version": "3.8.8"
  }
 },
 "nbformat": 4,
 "nbformat_minor": 5
}
