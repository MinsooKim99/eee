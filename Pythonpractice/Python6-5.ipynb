{
 "cells": [
  {
   "cell_type": "markdown",
   "id": "ae7f545a",
   "metadata": {},
   "source": [
    "# 탭을 4개의 공백으로 바꾸기"
   ]
  },
  {
   "cell_type": "code",
   "execution_count": null,
   "id": "fb5ba396",
   "metadata": {},
   "outputs": [],
   "source": [
    "import sys\n",
    "tabContents=sys.argv[1]\n",
    "notTabContents=sys.argv[2]\n",
    "f=open(tabContents,'r')\n",
    "tabText=f.read()\n",
    "f.close()\n",
    "notTabText=tabText.replace(\"\\t\",\" \"*4)\n",
    "f=open(notTabContents,'w')\n",
    "f.write(notTabText)\n",
    "f.close()"
   ]
  }
 ],
 "metadata": {
  "kernelspec": {
   "display_name": "Python 3",
   "language": "python",
   "name": "python3"
  },
  "language_info": {
   "codemirror_mode": {
    "name": "ipython",
    "version": 3
   },
   "file_extension": ".py",
   "mimetype": "text/x-python",
   "name": "python",
   "nbconvert_exporter": "python",
   "pygments_lexer": "ipython3",
   "version": "3.8.8"
  }
 },
 "nbformat": 4,
 "nbformat_minor": 5
}
