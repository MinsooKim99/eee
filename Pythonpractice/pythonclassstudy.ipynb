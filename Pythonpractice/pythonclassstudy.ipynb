{
 "cells": [
  {
   "cell_type": "markdown",
   "id": "145026e0",
   "metadata": {},
   "source": [
    "# 학교 파이썬프로그래밍수업 공부내용"
   ]
  },
  {
   "cell_type": "code",
   "execution_count": 8,
   "id": "9e89f494",
   "metadata": {},
   "outputs": [
    {
     "name": "stdout",
     "output_type": "stream",
     "text": [
      "Python\n",
      "Python\n"
     ]
    }
   ],
   "source": [
    "# 슬라이싱\n",
    "a='Life is too short, You need Python'\n",
    "print(a[28:])\n",
    "print(a[-6:])"
   ]
  },
  {
   "cell_type": "code",
   "execution_count": 1,
   "id": "0f469500",
   "metadata": {
    "scrolled": true
   },
   "outputs": [
    {
     "name": "stdout",
     "output_type": "stream",
     "text": [
      "(1003, 87)\n"
     ]
    }
   ],
   "source": [
    "# 함수 2개반환: 튜플로 반환\n",
    "def calc(a,b):\n",
    "    return a//b,a%b\n",
    "print(calc(123456,123))"
   ]
  },
  {
   "cell_type": "code",
   "execution_count": 2,
   "id": "7e518ed9",
   "metadata": {
    "scrolled": true
   },
   "outputs": [
    {
     "name": "stdout",
     "output_type": "stream",
     "text": [
      "[6, 16, 26, 36, 46, 56, 60, 61, 62, 63, 64, 65, 66, 67, 68, 69, 76, 86, 96]\n",
      "[6, 16, 26, 36, 46, 56, 60, 61, 62, 63, 64, 65, 66, 67, 68, 69, 76, 86, 96]\n"
     ]
    }
   ],
   "source": [
    "# 반복문을 통한 리스트 생성\n",
    "nums=[i for i in range(1,101) if '6' in str(i) ]\n",
    "print(nums)\n",
    "nums=[i for i in range(1,101) if i%10 == 6 or i//10 == 6]\n",
    "print(nums)"
   ]
  },
  {
   "cell_type": "code",
   "execution_count": 16,
   "id": "494b1f10",
   "metadata": {},
   "outputs": [
    {
     "name": "stdout",
     "output_type": "stream",
     "text": [
      "{'NFLX': 4950, 'TREX': 2400}\n",
      "{'NFLX': 4950, 'TREX': 2400}\n"
     ]
    }
   ],
   "source": [
    "# 딕셔너리 자료형 활용\n",
    "dict1={\"NFLX\":4950,\"TREX\":2400,\"FIZZ\":1800, \"XPO\":1700}\n",
    "dict2={x:y for x,y in dict1.items() if y>2000}\n",
    "print(dict2)\n",
    "dict3={d:dict1[d] for d in dict1 if dict1[d]>2000}\n",
    "print(dict3)"
   ]
  },
  {
   "cell_type": "code",
   "execution_count": 10,
   "id": "9a64209f",
   "metadata": {},
   "outputs": [
    {
     "name": "stdout",
     "output_type": "stream",
     "text": [
      "{'s', 'r', 'c', 'u', 't', 'U', 'm', 'a', ' ', 'h', 'y', 'p', 'n', 'd', 'g', '\\n', 'f', 'l', 'e', 'i', 'o', '1'}\n",
      "{'v', 'k', 'q', 'j', 'z', 'b', 'w', 'x'}\n",
      "abcdefghijklmnopqrstuvwxyz\n",
      "ABCDEFGHIJKLMNOPQRSTUVWXYZ\n",
      "abcdefghijklmnopqrstuvwxyzABCDEFGHIJKLMNOPQRSTUVWXYZ\n",
      "0123456789\n",
      "{'v', 'k', 'q', 'j', 'z', 'b', 'w', 'x'}\n"
     ]
    }
   ],
   "source": [
    "# 집합 자료형 활용\n",
    "a=set('''Using dict comprehension and a conditional argument\n",
    "create a dictionary from the current dictionary dict1''')\n",
    "print(a)\n",
    "b={'a','b','c','d','e','f','g','h','i','j','k','l','m','n','o','p','q','r','s','t','u','v','w','x','y','z'}\n",
    "c=b-a\n",
    "print(c)\n",
    "import string\n",
    "print(string.ascii_lowercase) # 소문자\n",
    "print(string.ascii_uppercase) # 대문자\n",
    "print(string.ascii_letters)   # 둘다\n",
    "print(string.digits) # 숫자\n",
    "\n",
    "d=set(string.ascii_lowercase)-a\n",
    "print(d)"
   ]
  },
  {
   "cell_type": "code",
   "execution_count": 6,
   "id": "44555027",
   "metadata": {},
   "outputs": [
    {
     "name": "stdout",
     "output_type": "stream",
     "text": [
      "[[2, 4, 6, 8, 10, 12, 14, 16, 18, 20], [3, 6, 9, 12, 15, 18, 21, 24, 27, 30]]\n"
     ]
    }
   ],
   "source": [
    "#구구단을 외자\n",
    "two=list()\n",
    "three=list()\n",
    "a=[two,three]\n",
    "for x in range(1,11):\n",
    "    two.append(2*x)\n",
    "for x in range(1,11):\n",
    "    three.append(3*x)\n",
    "print(a)"
   ]
  },
  {
   "cell_type": "code",
   "execution_count": 7,
   "id": "58dd985d",
   "metadata": {},
   "outputs": [
    {
     "name": "stdout",
     "output_type": "stream",
     "text": [
      "[[2, 4, 6, 8, 10, 12, 14, 16, 18, 20], [3, 6, 9, 12, 15, 18, 21, 24, 27, 30]]\n"
     ]
    }
   ],
   "source": [
    "#리스트 내부의 반복문\n",
    "a=[[2*x for x in range(1,11)],[3*y for y in range (1,11)]]\n",
    "print(a)"
   ]
  },
  {
   "cell_type": "code",
   "execution_count": 4,
   "id": "4a75e635",
   "metadata": {},
   "outputs": [
    {
     "name": "stdout",
     "output_type": "stream",
     "text": [
      "15\n",
      "55\n",
      "{'name': 'Kim', 'age': 23}\n"
     ]
    }
   ],
   "source": [
    "# * ** 가변 파라미터\n",
    "def add_all(*args):\n",
    "    result=0\n",
    "    for x in args:\n",
    "        result+=x\n",
    "    print(result)\n",
    "    \n",
    "add_all(1,2,3,4,5)\n",
    "add_all(1,2,3,4,5,6,7,8,9,10)\n",
    "\n",
    "def kwargs(**kwargs):\n",
    "    print(kwargs)\n",
    "kwargs(name=\"Kim\",age=23)"
   ]
  },
  {
   "cell_type": "code",
   "execution_count": 11,
   "id": "e0b898ae",
   "metadata": {},
   "outputs": [
    {
     "name": "stdout",
     "output_type": "stream",
     "text": [
      "11\n"
     ]
    }
   ],
   "source": [
    "#lambda 함수\n",
    "a=2\n",
    "b=3\n",
    "print(sum((lambda a,b:(a+b,a*b))(a,b)))"
   ]
  },
  {
   "cell_type": "code",
   "execution_count": 13,
   "id": "0c00d12c",
   "metadata": {},
   "outputs": [
    {
     "name": "stdout",
     "output_type": "stream",
     "text": [
      "input file name: input.txt\n",
      "output file name: w.txt\n"
     ]
    },
    {
     "ename": "ValueError",
     "evalue": "invalid literal for int() with base 10: ' '",
     "output_type": "error",
     "traceback": [
      "\u001b[1;31m---------------------------------------------------------------------------\u001b[0m",
      "\u001b[1;31mValueError\u001b[0m                                Traceback (most recent call last)",
      "\u001b[1;32m<ipython-input-13-afcdbc01f29b>\u001b[0m in \u001b[0;36m<module>\u001b[1;34m\u001b[0m\n\u001b[0;32m      7\u001b[0m     \u001b[0mline\u001b[0m\u001b[1;33m=\u001b[0m\u001b[0mf\u001b[0m\u001b[1;33m.\u001b[0m\u001b[0mreadline\u001b[0m\u001b[1;33m(\u001b[0m\u001b[1;33m)\u001b[0m\u001b[1;33m\u001b[0m\u001b[1;33m\u001b[0m\u001b[0m\n\u001b[0;32m      8\u001b[0m     \u001b[0mline\u001b[0m\u001b[1;33m.\u001b[0m\u001b[0msplit\u001b[0m\u001b[1;33m(\u001b[0m\u001b[1;33m)\u001b[0m\u001b[1;33m\u001b[0m\u001b[1;33m\u001b[0m\u001b[0m\n\u001b[1;32m----> 9\u001b[1;33m     \u001b[0mintline\u001b[0m\u001b[1;33m=\u001b[0m\u001b[0mlist\u001b[0m\u001b[1;33m(\u001b[0m\u001b[0mmap\u001b[0m\u001b[1;33m(\u001b[0m\u001b[0mint\u001b[0m\u001b[1;33m,\u001b[0m\u001b[0mline\u001b[0m\u001b[1;33m)\u001b[0m\u001b[1;33m)\u001b[0m\u001b[1;33m\u001b[0m\u001b[1;33m\u001b[0m\u001b[0m\n\u001b[0m\u001b[0;32m     10\u001b[0m     \u001b[0maddResult\u001b[0m\u001b[1;33m=\u001b[0m\u001b[0msum\u001b[0m\u001b[1;33m(\u001b[0m\u001b[0mintline\u001b[0m\u001b[1;33m)\u001b[0m\u001b[1;33m\u001b[0m\u001b[1;33m\u001b[0m\u001b[0m\n\u001b[0;32m     11\u001b[0m     \u001b[0mprint\u001b[0m\u001b[1;33m(\u001b[0m\u001b[0maddResult\u001b[0m\u001b[1;33m)\u001b[0m\u001b[1;33m\u001b[0m\u001b[1;33m\u001b[0m\u001b[0m\n",
      "\u001b[1;31mValueError\u001b[0m: invalid literal for int() with base 10: ' '"
     ]
    }
   ],
   "source": [
    "import sys\n",
    "i=input(('input file name: '))\n",
    "o=input(('output file name: '))\n",
    "f=open(i,'r')\n",
    "\n",
    "while 1:\n",
    "    line=f.readline()\n",
    "    line.split()\n",
    "    intline=list(map(int,line))\n",
    "    addResult=sum(intline)\n",
    "    print(addResult)\n",
    "    if not line:break # not line이 트루면 그만\n",
    "#result=\n",
    "f.close()\n",
    "\n",
    "#f=open(o,r)\n",
    "#f.write(result)\n",
    "#f.close()"
   ]
  },
  {
   "cell_type": "code",
   "execution_count": 3,
   "id": "114cb5a3",
   "metadata": {},
   "outputs": [],
   "source": [
    "import pickle\n",
    "f = open(\"test.txt\", 'wb')\n",
    "data = ('학번: 2018152002','이름: 김민수')\n",
    "pickle.dump(data, f)\n",
    "f.close()"
   ]
  },
  {
   "cell_type": "code",
   "execution_count": 4,
   "id": "a453be1a",
   "metadata": {},
   "outputs": [
    {
     "name": "stdout",
     "output_type": "stream",
     "text": [
      "('학번: 2018152002', '이름: 김민수')\n"
     ]
    }
   ],
   "source": [
    "import pickle\n",
    "f2 = open(\"test.txt\", 'rb')\n",
    "data2 = pickle.load(f2)\n",
    "print(data2)\n",
    "f2.close()"
   ]
  },
  {
   "cell_type": "code",
   "execution_count": 4,
   "id": "7fb2ead7",
   "metadata": {},
   "outputs": [
    {
     "data": {
      "text/plain": [
       "['C:/Users/rlaal/Desktop/projects\\\\Arduino',\n",
       " 'C:/Users/rlaal/Desktop/projects\\\\C practice',\n",
       " 'C:/Users/rlaal/Desktop/projects\\\\CPP practice',\n",
       " 'C:/Users/rlaal/Desktop/projects\\\\eee',\n",
       " 'C:/Users/rlaal/Desktop/projects\\\\HTMLpractice',\n",
       " 'C:/Users/rlaal/Desktop/projects\\\\JAVApractice',\n",
       " 'C:/Users/rlaal/Desktop/projects\\\\Pythonpractice',\n",
       " 'C:/Users/rlaal/Desktop/projects\\\\README.md']"
      ]
     },
     "execution_count": 4,
     "metadata": {},
     "output_type": "execute_result"
    }
   ],
   "source": [
    "import glob\n",
    "glob.glob('C:/Users/rlaal/Desktop/projects/*')"
   ]
  },
  {
   "cell_type": "code",
   "execution_count": 1,
   "id": "f5071284",
   "metadata": {},
   "outputs": [
    {
     "data": {
      "text/plain": [
       "time.struct_time(tm_year=2021, tm_mon=10, tm_mday=12, tm_hour=15, tm_min=1, tm_sec=3, tm_wday=1, tm_yday=285, tm_isdst=0)"
      ]
     },
     "execution_count": 1,
     "metadata": {},
     "output_type": "execute_result"
    }
   ],
   "source": [
    "import time\n",
    "time.localtime(time.time())"
   ]
  },
  {
   "cell_type": "code",
   "execution_count": 4,
   "id": "59c928d4",
   "metadata": {},
   "outputs": [
    {
     "name": "stdout",
     "output_type": "stream",
     "text": [
      "생일은  1999/06/09/15:03:23\n"
     ]
    }
   ],
   "source": [
    "a='1999-06-09 15:03:23'\n",
    "result=time.strptime(a,\"%Y-%m-%d %X\")\n",
    "print(\"생일은 \",time.strftime(\"%Y/%m/%d/%X\",result))"
   ]
  },
  {
   "cell_type": "code",
   "execution_count": null,
   "id": "86501ec1",
   "metadata": {},
   "outputs": [],
   "source": []
  }
 ],
 "metadata": {
  "kernelspec": {
   "display_name": "Python 3",
   "language": "python",
   "name": "python3"
  },
  "language_info": {
   "codemirror_mode": {
    "name": "ipython",
    "version": 3
   },
   "file_extension": ".py",
   "mimetype": "text/x-python",
   "name": "python",
   "nbconvert_exporter": "python",
   "pygments_lexer": "ipython3",
   "version": "3.8.8"
  }
 },
 "nbformat": 4,
 "nbformat_minor": 5
}
