{
 "cells": [
  {
   "cell_type": "markdown",
   "id": "cd62684e",
   "metadata": {},
   "source": [
    "# Ch0 Enviroment Setting"
   ]
  },
  {
   "cell_type": "code",
   "execution_count": 1,
   "id": "fea7c628",
   "metadata": {},
   "outputs": [
    {
     "name": "stdout",
     "output_type": "stream",
     "text": [
      "2018152002\n",
      "김민수\n"
     ]
    }
   ],
   "source": [
    "num=2018152002\n",
    "name='김민수'\n",
    "print(num)\n",
    "print(name)"
   ]
  },
  {
   "cell_type": "code",
   "execution_count": null,
   "id": "29fc8ea7",
   "metadata": {},
   "outputs": [],
   "source": []
  }
 ],
 "metadata": {
  "kernelspec": {
   "display_name": "Python 3",
   "language": "python",
   "name": "python3"
  },
  "language_info": {
   "codemirror_mode": {
    "name": "ipython",
    "version": 3
   },
   "file_extension": ".py",
   "mimetype": "text/x-python",
   "name": "python",
   "nbconvert_exporter": "python",
   "pygments_lexer": "ipython3",
   "version": "3.8.8"
  }
 },
 "nbformat": 4,
 "nbformat_minor": 5
}
