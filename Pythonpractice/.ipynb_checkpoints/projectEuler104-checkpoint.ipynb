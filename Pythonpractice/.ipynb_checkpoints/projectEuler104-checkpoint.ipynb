{
 "cells": [
  {
   "cell_type": "markdown",
   "id": "c4fbd78e",
   "metadata": {},
   "source": [
    "# 104.피보나치 수열은 다음과 같은 반복 관계로 정의됩니다.\n",
    "\n",
    "# F n = F n −1 + F n −2 , 여기서 F 1 = 1이고 F 2 = 1입니다.\n",
    "# 113자리를 포함 하는 F 541 은 마지막 9자리가 1-9 범디지털(1부터 9까지의 모든 숫자를 포함하지만 반드시 순서대로는 아님)인 첫 번째 피보나치 수입니다. 그리고 575자리를 포함하는 F 2749 는 처음 9자리가 1-9 범디지털인 첫 번째 피보나치 수입니다.\n",
    "\n",
    "# F k 가 처음 9자리 숫자와 마지막 9자리 숫자가 1-9 범디지털인 첫 번째 피보나치 수인 경우 k 를 찾으십시오 ."
   ]
  },
  {
   "cell_type": "code",
   "execution_count": 31,
   "id": "0f50a2e1",
   "metadata": {
    "scrolled": true
   },
   "outputs": [],
   "source": [
    "def fib(n): # n번째 피보나치수열을 구하는 함수\n",
    "    if n==0:\n",
    "        return 0\n",
    "    elif n==1:\n",
    "        return 1\n",
    "    else:\n",
    "        return fib(n-2)+fib(n-1)\n",
    "k=2749                        # 앞의 두 조건을 만족하기 위해선 둘중 하나를 만족하는 수보단 커야함: F2749(575자리수)부터 검사\n",
    "answer=list()\n",
    "numlist=['1','2','3','4','5','6','7','8','9']\n",
    "while not answer:  # answer에 아무것도 없으면 계속\n",
    "    if sorted(str(fib(k))[:9]) == numlist and sorted(str(fib(k))[-9:]) == numlist:\n",
    "        # k번째 피보나치 수열의 앞뒤9자리를 문자화=>슬라이싱=>정렬해서 numlist(1~9)와 비교\n",
    "        answer.append(k)                          # 같으면 정답: 정답을 answer에 추가\n",
    "    else:                                        # 다르면\n",
    "        k+=1                                     # k++\n",
    "        continue                                # 반복문 계속\n",
    "print(answer.pop()) # 이론상 맞으나 실행불가"
   ]
  },
  {
   "cell_type": "markdown",
   "id": "8a2e7955",
   "metadata": {},
   "source": [
    "52, 104, 156, 208, 260, 312, 364, 416, 468, 520, 572, 624, 676, 728 문제중에 제가 이해할 수 있는 문제는 52,104번 뿐이였고 나머지는 문제조차 이해가 되지 않아서 파이썬으로는 fib(100)만해도 구하는데 걸리는 시간이 사실상 불가능이라 도저히 계산이 안되지만 이론상 풀 수는 있는 104번문제를 부득이하게 선택하게 되었습니다"
   ]
  },
  {
   "cell_type": "markdown",
   "id": "f9df6980",
   "metadata": {},
   "source": [
    "# 위의 코드가 직접실행이 불가해서 넣은 예시"
   ]
  },
  {
   "cell_type": "code",
   "execution_count": 21,
   "id": "5a86dcc9",
   "metadata": {},
   "outputs": [
    {
     "name": "stdout",
     "output_type": "stream",
     "text": [
      "2\n",
      "3\n",
      "5\n",
      "8\n",
      "50000\n"
     ]
    }
   ],
   "source": [
    "def fib(n): # n번째 피보나치수열을 구하는 함수\n",
    "    if n==0:\n",
    "        return 0\n",
    "    elif n==1:\n",
    "        return 1\n",
    "    else:\n",
    "        return fib(n-2)+fib(n-1)\n",
    "print(fib(3)) # 1+1\n",
    "print(fib(4)) # 1+2\n",
    "print(fib(5)) # 2+3\n",
    "print(fib(6)) # 3+5\n",
    "\n",
    "k=50000\n",
    "a=123456789999999999999999999999999987654321 # 조건에 만족하는 피보나치수 a = F50000 이라 가정\n",
    "\n",
    "answer=list()\n",
    "numlist=['1','2','3','4','5','6','7','8','9']\n",
    "while not answer:  # answer에 아무것도 없으면 계속\n",
    "    if sorted(str(a)[:9]) == numlist and sorted(str(a)[-9:]) == numlist:\n",
    "        # k번째 피보나치 수열의 앞뒤9자리를 문자화=>슬라이싱=>정렬해서 비교\n",
    "        answer.append(k)                          # 같으면 정답: 정답을 answer에 추가\n",
    "    else:                                        # 다르면\n",
    "        k+=1                                     # k++\n",
    "        continue\n",
    "print(answer.pop())"
   ]
  },
  {
   "cell_type": "code",
   "execution_count": null,
   "id": "3dba0ac6",
   "metadata": {},
   "outputs": [],
   "source": []
  }
 ],
 "metadata": {
  "kernelspec": {
   "display_name": "Python 3",
   "language": "python",
   "name": "python3"
  },
  "language_info": {
   "codemirror_mode": {
    "name": "ipython",
    "version": 3
   },
   "file_extension": ".py",
   "mimetype": "text/x-python",
   "name": "python",
   "nbconvert_exporter": "python",
   "pygments_lexer": "ipython3",
   "version": "3.8.8"
  }
 },
 "nbformat": 4,
 "nbformat_minor": 5
}
