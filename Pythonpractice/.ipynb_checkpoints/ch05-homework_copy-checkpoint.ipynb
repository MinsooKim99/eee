{
 "cells": [
  {
   "cell_type": "code",
   "execution_count": 38,
   "id": "9d493c7b",
   "metadata": {},
   "outputs": [],
   "source": [
    "## 5.1 클래스\n",
    "# 다음 Airforce 클래스를 이용하여 질문에 답하라. \n",
    "class Airforce:\n",
    "    def __init__(self, name, p):\n",
    "        self.name = name\n",
    "        self.power = p"
   ]
  },
  {
   "cell_type": "code",
   "execution_count": 39,
   "id": "22ddfb04",
   "metadata": {
    "scrolled": true
   },
   "outputs": [
    {
     "name": "stdout",
     "output_type": "stream",
     "text": [
      "F14 50\n"
     ]
    }
   ],
   "source": [
    "# (1점) 5.1.1   다음과 같은 (name, power)를 갖는 Airforce 인스턴스 a1을 만들고, a1의 name, power를 출력하시오\n",
    "# (name, power) =  (\"F14\",50)  \n",
    "\n",
    "# ---- 답안 시작 --------\n",
    "a1=Airforce(\"F14\",50)\n",
    "print(a1.name,a1.power)"
   ]
  },
  {
   "cell_type": "code",
   "execution_count": 40,
   "id": "00976787",
   "metadata": {},
   "outputs": [
    {
     "name": "stdout",
     "output_type": "stream",
     "text": [
      "# of Jets= 0\n"
     ]
    }
   ],
   "source": [
    "# (1점) 5.1.2 Airforce를 상속하여 다음 조건을 만족하는 Jet 클래스를 완성/구현하시오. \n",
    "#  - Jet 클래스 인스턴스들의 수를 저장하는 변수 클래스 변수 cnt를 만들라\n",
    "#  - 생성자와 소멸자를 cnt에 인스턴스의 수가 유지되도록 작성하라. \n",
    "#  - (\"F14\",50), (\"SU33\", 60), (\"Mirage2000\", 45) 값을 갖는 Jet 인스턴스를 만들고, \n",
    "#  - 두번째 인스턴스를 제거한후, Jet.cnt를 출력한다. \n",
    "\n",
    "# ---- 답안 시작 --------\n",
    "class Global():\n",
    "    cnt = 0\n",
    "class Jet(Airforce,Global):\n",
    "    def __init__(self, name, p):\n",
    "        self.name = name\n",
    "        self.power = p\n",
    "        Global.cnt += 1\n",
    "    def __del__(self):\n",
    "        Global.cnt -= 1\n",
    "\n",
    "# --- 답안 end ----------\n",
    "\n",
    "# 다음 코드는 수정하지 마시오.         \n",
    "j1 = Jet(\"F14\",50)\n",
    "j2 = Jet(\"SU33\", 60)\n",
    "j3 = Jet(\"Mirage2000\", 45)\n",
    "del j2\n",
    "print(\"# of Jets=\", j3.cnt)"
   ]
  },
  {
   "cell_type": "code",
   "execution_count": 43,
   "id": "d95c5f36",
   "metadata": {},
   "outputs": [
    {
     "name": "stdout",
     "output_type": "stream",
     "text": [
      "(F16, 150)\n"
     ]
    }
   ],
   "source": [
    "# (1점) 5.1.3 Airforce를 상속하여 다음 조건을 만족하는 Helicopter 클래스를 완성/구현하시오. \n",
    "# Airforce instance 변수를 print 함수로 출력하면, 그내용을 볼 수 없다. \n",
    "# print 함수의 파라미터에 Helicopter instance를 주면,  (name, power)  형태가 나오도록 \n",
    "# __str__ 함수를  멤버함수로 만드시오. \n",
    "\n",
    "# ---- 답안 시작 --------\n",
    "class Helicopter(Airforce):\n",
    "    def __init__(self, name, p):\n",
    "        self.name = name\n",
    "        self.power = p\n",
    "    def __str__(self):\n",
    "        return '({0}, {1})'.format(self.name,self.power)\n",
    "# --- 답안 end ----------\n",
    "\n",
    "    \n",
    "# 다음을 수정하지 마시오.     \n",
    "h =  Helicopter(\"F16\",150)   \n",
    "print(h)"
   ]
  },
  {
   "cell_type": "markdown",
   "id": "04625f52",
   "metadata": {},
   "source": [
    "## 5.5 내장함수 과제"
   ]
  },
  {
   "cell_type": "code",
   "execution_count": 54,
   "id": "0cc1acde",
   "metadata": {},
   "outputs": [
    {
     "name": "stdout",
     "output_type": "stream",
     "text": [
      "{'Netflix': 198, 'Hulu': 166, 'Sling': 237, 'Hbo': 125}\n"
     ]
    }
   ],
   "source": [
    "# (1점) 5.5.1  zip 및 dict 함수를 사용하여 ott 및 revenue(수익)에서 오는 키(ott회사)-값(회사수익) 쌍이 있는 사전(dict)을 만들고,  \n",
    "# ottrank에 저장하고 출력하시오 \n",
    "\n",
    "ott =[\"Netflix\", \"Hulu\", \"Sling\", \"Hbo\"]\n",
    "revenue =[198, 166, 237, 125]\n",
    "\n",
    "# ---- 답안 시작 --------\n",
    "ottrank =  dict(zip(ott,revenue))\n",
    "print(ottrank)\n",
    "\n",
    "# --- 답안 end ----------"
   ]
  },
  {
   "cell_type": "code",
   "execution_count": 64,
   "id": "565094ed",
   "metadata": {},
   "outputs": [
    {
     "name": "stdout",
     "output_type": "stream",
     "text": [
      "['Hbo', 'Hulu', 'Netflix', 'Sling']\n"
     ]
    }
   ],
   "source": [
    "# (1점) 5.5.2  위의 5.5.1에서 만든  ottrank에서 ott회사를 이름순 정렬하여(혹은 정렬된 리스트로) 출력하시오. \n",
    "\n",
    "# ---- 답안 시작 --------\n",
    "ottnamesort=sorted(ottrank.keys())\n",
    "print(ottnamesort)\n",
    "\n",
    "# --- 답안 end ----------"
   ]
  },
  {
   "cell_type": "code",
   "execution_count": 82,
   "id": "33d826ef",
   "metadata": {},
   "outputs": [
    {
     "name": "stdout",
     "output_type": "stream",
     "text": [
      "['Hbo', 'Hulu', 'Netflix', 'Sling']\n"
     ]
    }
   ],
   "source": [
    "# (1점) 5.5.3  위의 5.5.1에서 만든  ottrank에서 회사수익(revenue)을 기준이 많은 순으로 회사이름을 출력하시오. \n",
    "# 단, sorted 함수를 이용하라. \n",
    "# ---- 답안 시작 --------\n",
    "import operator # operator 라이브러리 이용, 0번째인자인 key를 기준으로 정렬\n",
    "ottrevranklist=sorted(ottrank.items(),key=operator.itemgetter(0))\n",
    "\n",
    "#print(ottrevranklist) # 튜플들의 리스트로 반환 => 5.5.4에서 이용\n",
    "\n",
    "# 리스트에 회사이름만 정렬해서 표기\n",
    "print([ottrevranklist[x][0] for x in range(0,len(ottrevranklist))])\n",
    "# --- 답안 end ----------"
   ]
  },
  {
   "cell_type": "code",
   "execution_count": 83,
   "id": "393df0cc",
   "metadata": {},
   "outputs": [
    {
     "name": "stdout",
     "output_type": "stream",
     "text": [
      "{'Hbo': 125, 'Hulu': 166, 'Netflix': 198, 'Sling': 237}\n"
     ]
    }
   ],
   "source": [
    "# (1점) 5.5.4  위의 5.5.1에서 만든  ottrank에서 회사수익(revenue)을 기준이 많은 순으로 \n",
    "# 회사이름(key)과 수익(value)로 구성된 사전을 출력하시오.\n",
    "\n",
    "# ---- 답안 시작 --------\n",
    "# 5.5.3에서 수익순으로 정렬된 튜플리스트를 딕셔너리로 변환\n",
    "ottsortedrank=dict(ottrevranklist)\n",
    "print(ottsortedrank)\n",
    "# --- 답안 end ----------"
   ]
  },
  {
   "cell_type": "code",
   "execution_count": 99,
   "id": "b398cbcd",
   "metadata": {
    "scrolled": true
   },
   "outputs": [
    {
     "name": "stdout",
     "output_type": "stream",
     "text": [
      "[('Netflix', 198), ('Sling', 237)]\n"
     ]
    }
   ],
   "source": [
    "# (1점) 5.5.5 위의 5.5.1에서 만든  ottrank에서 회사수익이 175 이상인 회사와 수익을 출력하시오. \n",
    "# filter 함수를 이용하되, 출력결과 형태는 자유\n",
    "\n",
    "# ---- 답안 시작 --------\n",
    "# ottrank의 모든항목을 불러와 각 항목의 [1]번째 즉 value를 가져와서 비교\n",
    "print(list(filter(lambda x:x[1]>=175,ottrank.items())))\n",
    "\n",
    "# --- 답안 end ----------\n"
   ]
  },
  {
   "cell_type": "code",
   "execution_count": 121,
   "id": "6f90521f",
   "metadata": {},
   "outputs": [
    {
     "name": "stdout",
     "output_type": "stream",
     "text": [
      "[('Netflix', 200), ('Hulu', 200), ('Sling', 237), ('Hbo', 100)]\n"
     ]
    }
   ],
   "source": [
    "# (2점) 5.5.6 위의 5.5.1에서 만든  ottrank에서 회사수익(revenue)이 200이하인 회사는 \n",
    "# 회사수익을 10 (십)자리에서 반올림하여 회사이름과 수익을 출력하시오. \n",
    "# 단, 가급적 map 함수를 이용하여 한줄로 구현하라(map을 사용하지 않는 경우, 1점 감점). \n",
    "# 출력결과 형태는 자유\n",
    "\n",
    "# ---- 답안 시작 --------\n",
    "valrank=list(map(lambda y:round(y,-2) if y<=200 else y, ottrank.values()))\n",
    "print(list(zip(ott,valrank)))\n",
    "# --- 답안 end ----------\n"
   ]
  },
  {
   "cell_type": "code",
   "execution_count": null,
   "id": "0ef784e8",
   "metadata": {},
   "outputs": [],
   "source": []
  }
 ],
 "metadata": {
  "kernelspec": {
   "display_name": "Python 3",
   "language": "python",
   "name": "python3"
  },
  "language_info": {
   "codemirror_mode": {
    "name": "ipython",
    "version": 3
   },
   "file_extension": ".py",
   "mimetype": "text/x-python",
   "name": "python",
   "nbconvert_exporter": "python",
   "pygments_lexer": "ipython3",
   "version": "3.8.8"
  }
 },
 "nbformat": 4,
 "nbformat_minor": 5
}
