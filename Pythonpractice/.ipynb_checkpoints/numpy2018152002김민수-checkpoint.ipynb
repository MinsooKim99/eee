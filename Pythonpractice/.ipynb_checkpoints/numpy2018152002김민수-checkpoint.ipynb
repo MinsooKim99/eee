{
 "cells": [
  {
   "cell_type": "markdown",
   "id": "781193d5",
   "metadata": {},
   "source": [
    "#2 Write a NumPy program to get help on the add function."
   ]
  },
  {
   "cell_type": "markdown",
   "id": "2e88acc4",
   "metadata": {},
   "source": [
    "#add(x1, x2[, out])\n",
    "\n",
    "Add arguments element-wise.\n",
    "\n",
    "Parameters\n",
    "----------\n",
    "x1, x2 : array_like\n",
    "    The arrays to be added.  If ``x1.shape != x2.shape``, they must be\n",
    "    broadcastable to a common shape (which may be the shape of one or\n",
    "    the other).\n",
    "\n",
    "Returns\n",
    "-------\n",
    "add : ndarray or scalar\n",
    "    The sum of `x1` and `x2`, element-wise.  Returns a scalar if\n",
    "    both  `x1` and `x2` are scalars.\n",
    "\n",
    "Notes\n",
    "-----\n",
    "Equivalent to `x1` + `x2` in terms of array broadcasting."
   ]
  },
  {
   "cell_type": "code",
   "execution_count": 1,
   "id": "1e4ee2a6",
   "metadata": {},
   "outputs": [
    {
     "name": "stdout",
     "output_type": "stream",
     "text": [
      "5\n"
     ]
    }
   ],
   "source": [
    "import numpy as np\n",
    "print(np.add(2,3))"
   ]
  },
  {
   "cell_type": "markdown",
   "id": "f4aebdee",
   "metadata": {},
   "source": [
    "#12. Write a NuqmPy program to create an array with the values 1, 7, 13, 105 and determine the size of the memory occupied by the array."
   ]
  },
  {
   "cell_type": "code",
   "execution_count": 3,
   "id": "14cee761",
   "metadata": {},
   "outputs": [
    {
     "name": "stdout",
     "output_type": "stream",
     "text": [
      "4\n",
      "4\n",
      "16\n"
     ]
    }
   ],
   "source": [
    "a=np.array([1,7,13,105])\n",
    "print(a.size)\n",
    "print(a.itemsize)\n",
    "print(a.size*a.itemsize)"
   ]
  },
  {
   "cell_type": "markdown",
   "id": "6786c277",
   "metadata": {},
   "source": [
    "#22. Write a NumPy program to create a vector with values from 0 to 20 and change the sign of the numbers in the range from 9 to 15."
   ]
  },
  {
   "cell_type": "code",
   "execution_count": 42,
   "id": "157cb30d",
   "metadata": {},
   "outputs": [
    {
     "name": "stdout",
     "output_type": "stream",
     "text": [
      "[  1   2   3   4   5   6   7   8  -9 -10 -11 -12 -13 -14 -15  16  17  18\n",
      "  19  20]\n"
     ]
    }
   ],
   "source": [
    "b=np.array([x for x in range(1,21)])\n",
    "b[8:15]=-b[8:15]\n",
    "print(b)"
   ]
  },
  {
   "cell_type": "markdown",
   "id": "4b78b2f8",
   "metadata": {},
   "source": [
    "#32. Write a NumPy program to compute sum of all elements, sum of each column and sum of each row of a given array."
   ]
  },
  {
   "cell_type": "code",
   "execution_count": 26,
   "id": "338d84bd",
   "metadata": {},
   "outputs": [
    {
     "name": "stdout",
     "output_type": "stream",
     "text": [
      "[[ 1  2  3  4  5]\n",
      " [ 6  7  8  9 10]]\n",
      "요소의 합 = 55\n",
      "행의 합 = [15 40]\n",
      "열의 합 = [ 7  9 11 13 15]\n"
     ]
    }
   ],
   "source": [
    "def numpyCalc(a):\n",
    "    print(\"요소의 합 = \",end=\"\")\n",
    "    print(a.sum())\n",
    "    print(\"행의 합 = \",end=\"\")\n",
    "    print(a.sum(axis=1))\n",
    "    print(\"열의 합 = \",end=\"\")\n",
    "    print(a.sum(axis=0))\n",
    "\n",
    "print(np.array([1,2,3,4,5,6,7,8,9,10]).reshape(2,5))\n",
    "numpyCalc(np.array([1,2,3,4,5,6,7,8,9,10]).reshape(2,5))"
   ]
  },
  {
   "cell_type": "markdown",
   "id": "f2f4a56a",
   "metadata": {},
   "source": [
    "#42. Write a NumPy program to add elements in a matrix. If an element in the matrix is 0, we will not add the element below this element."
   ]
  },
  {
   "cell_type": "code",
   "execution_count": 18,
   "id": "6edc48e3",
   "metadata": {},
   "outputs": [
    {
     "name": "stdout",
     "output_type": "stream",
     "text": [
      "0\n",
      "[1. 2. 3. 4. 0.]\n"
     ]
    }
   ],
   "source": [
    "def arrayAdd(arr,num):\n",
    "    if arr.size!=0 and arr[-1]!=0:\n",
    "        arr=np.append(arr,np.array(num))\n",
    "    elif arr.size==0:\n",
    "        arr=np.append(arr,np.array(num))\n",
    "    return arr\n",
    "ar=np.array([])\n",
    "ar=arrayAdd(ar,1)\n",
    "ar=arrayAdd(ar,2)\n",
    "ar=arrayAdd(ar,3)\n",
    "ar=arrayAdd(ar,4)\n",
    "ar=arrayAdd(ar,0)\n",
    "ar=arrayAdd(ar,5)\n",
    "print(ar)\n"
   ]
  },
  {
   "cell_type": "markdown",
   "id": "9adc8e8b",
   "metadata": {},
   "source": [
    "#52. Write a NumPy program to sort a given array by row and column in ascending order."
   ]
  },
  {
   "cell_type": "code",
   "execution_count": 44,
   "id": "b7c69bec",
   "metadata": {},
   "outputs": [
    {
     "name": "stdout",
     "output_type": "stream",
     "text": [
      "[[49 48 47 46 45 44 43 42 41 40]\n",
      " [39 38 37 36 35 34 33 32 31 30]\n",
      " [29 28 27 26 25 24 23 22 21 20]\n",
      " [19 18 17 16 15 14 13 12 11 10]\n",
      " [ 9  8  7  6  5  4  3  2  1  0]]\n",
      "원본\n",
      "[[40 41 42 43 44 45 46 47 48 49]\n",
      " [30 31 32 33 34 35 36 37 38 39]\n",
      " [20 21 22 23 24 25 26 27 28 29]\n",
      " [10 11 12 13 14 15 16 17 18 19]\n",
      " [ 0  1  2  3  4  5  6  7  8  9]]\n",
      "행정렬 (오름차순)\n",
      "[[ 9  8  7  6  5  4  3  2  1  0]\n",
      " [19 18 17 16 15 14 13 12 11 10]\n",
      " [29 28 27 26 25 24 23 22 21 20]\n",
      " [39 38 37 36 35 34 33 32 31 30]\n",
      " [49 48 47 46 45 44 43 42 41 40]]\n",
      "열정렬 (오름차순)\n"
     ]
    }
   ],
   "source": [
    "a=np.array([50-x for x in range (1,51)]).reshape(5,10)\n",
    "print(a)\n",
    "print(\"원본\")\n",
    "print(np.sort(a,axis=1))\n",
    "print(\"행정렬 (오름차순)\")\n",
    "print(np.sort(a,axis=0))\n",
    "print(\"열정렬 (오름차순)\")"
   ]
  },
  {
   "cell_type": "code",
   "execution_count": null,
   "id": "543a9e2e",
   "metadata": {},
   "outputs": [],
   "source": []
  }
 ],
 "metadata": {
  "kernelspec": {
   "display_name": "Python 3",
   "language": "python",
   "name": "python3"
  },
  "language_info": {
   "codemirror_mode": {
    "name": "ipython",
    "version": 3
   },
   "file_extension": ".py",
   "mimetype": "text/x-python",
   "name": "python",
   "nbconvert_exporter": "python",
   "pygments_lexer": "ipython3",
   "version": "3.8.8"
  }
 },
 "nbformat": 4,
 "nbformat_minor": 5
}
