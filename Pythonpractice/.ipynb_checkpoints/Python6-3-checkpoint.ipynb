{
 "cells": [
  {
   "cell_type": "markdown",
   "id": "d3f07fcd",
   "metadata": {},
   "source": [
    "# 게시판 페이징하기"
   ]
  },
  {
   "cell_type": "code",
   "execution_count": 3,
   "id": "e3ad1af8",
   "metadata": {},
   "outputs": [
    {
     "name": "stdout",
     "output_type": "stream",
     "text": [
      "1\n",
      "2\n",
      "2\n"
     ]
    }
   ],
   "source": [
    "def pageing(x, y):\n",
    "    if x % y == 0:\n",
    "        return x // y\n",
    "    else:\n",
    "        return x // y + 1\n",
    "\n",
    "print(pageing(5, 10))\n",
    "print(pageing(15, 10))\n",
    "print(pageing(20, 10))"
   ]
  }
 ],
 "metadata": {
  "kernelspec": {
   "display_name": "Python 3",
   "language": "python",
   "name": "python3"
  },
  "language_info": {
   "codemirror_mode": {
    "name": "ipython",
    "version": 3
   },
   "file_extension": ".py",
   "mimetype": "text/x-python",
   "name": "python",
   "nbconvert_exporter": "python",
   "pygments_lexer": "ipython3",
   "version": "3.8.8"
  }
 },
 "nbformat": 4,
 "nbformat_minor": 5
}
