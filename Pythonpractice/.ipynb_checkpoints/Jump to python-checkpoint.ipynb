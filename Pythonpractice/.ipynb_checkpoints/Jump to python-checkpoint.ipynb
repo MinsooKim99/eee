{
 "cells": [
  {
   "cell_type": "code",
   "execution_count": 4,
   "id": "b7bf0979",
   "metadata": {},
   "outputs": [
    {
     "name": "stdout",
     "output_type": "stream",
     "text": [
      "881120\n",
      "1068234\n",
      "1\n"
     ]
    }
   ],
   "source": [
    "#슬라이싱 출력\n",
    "num= '881120-1068234'\n",
    "print(num[:6])\n",
    "print(num[-7:])\n",
    "print(num[-7])"
   ]
  },
  {
   "cell_type": "code",
   "execution_count": 7,
   "id": "f0caa007",
   "metadata": {},
   "outputs": [
    {
     "name": "stdout",
     "output_type": "stream",
     "text": [
      "a#b#c#d\n"
     ]
    }
   ],
   "source": [
    "#replace\n",
    "a='a:b:c:d'\n",
    "b=a.replace(':','#')\n",
    "print(b)"
   ]
  },
  {
   "cell_type": "code",
   "execution_count": 1,
   "id": "bfe7e035",
   "metadata": {},
   "outputs": [
    {
     "name": "stdout",
     "output_type": "stream",
     "text": [
      "[5, 4, 3, 2, 1]\n"
     ]
    }
   ],
   "source": [
    "#list 내장함수 이용\n",
    "a=[3,5,2,4,1] #5,4,3,2,1로 수정하기\n",
    "#a.sort()\n",
    "#a.reverse()\n",
    "b=list(sorted(a,reverse=True))\n",
    "print(b)"
   ]
  },
  {
   "cell_type": "code",
   "execution_count": 20,
   "id": "d4c52eb0",
   "metadata": {},
   "outputs": [
    {
     "name": "stdout",
     "output_type": "stream",
     "text": [
      "Life is too short\n",
      "['Life', 'is', 'too', 'short']\n"
     ]
    }
   ],
   "source": [
    "#string 내장함수\n",
    "a=['Life','is','too','short']\n",
    "b=\" \".join(a)\n",
    "c=b.split()\n",
    "print(b)\n",
    "print(c)"
   ]
  },
  {
   "cell_type": "code",
   "execution_count": 3,
   "id": "14fb6de5",
   "metadata": {},
   "outputs": [
    {
     "name": "stdout",
     "output_type": "stream",
     "text": [
      "(1, 2, 3, 4)\n"
     ]
    }
   ],
   "source": [
    "#튜플 활용\n",
    "a=(1,2,3)\n",
    "a+=(4,)\n",
    "print(a)\n"
   ]
  },
  {
   "cell_type": "code",
   "execution_count": 5,
   "id": "d1dff0a5",
   "metadata": {},
   "outputs": [
    {
     "name": "stdout",
     "output_type": "stream",
     "text": [
      "{1, 2, 3, 4, 5}\n"
     ]
    }
   ],
   "source": [
    "#중복 제거\n",
    "a=[1,1,1,2,2,2,3,3,3,4,4,4,5,5,5]\n",
    "b=set(a)\n",
    "print(b)"
   ]
  },
  {
   "cell_type": "code",
   "execution_count": 3,
   "id": "d0434028",
   "metadata": {},
   "outputs": [
    {
     "name": "stdout",
     "output_type": "stream",
     "text": [
      "6.5\n"
     ]
    }
   ],
   "source": [
    "# 평균 구하는 함수\n",
    "\n",
    "def avg(*args):\n",
    "    result=0\n",
    "    for x in args:\n",
    "        result+=x\n",
    "    return(result/len(args))\n",
    "print(avg(3,4,5,6,7,8,9,10))"
   ]
  },
  {
   "cell_type": "code",
   "execution_count": 3,
   "id": "be1dec45",
   "metadata": {},
   "outputs": [
    {
     "name": "stdout",
     "output_type": "stream",
     "text": [
      "3\n"
     ]
    }
   ],
   "source": [
    "# 클래스 상속 1\n",
    "class Calculator:\n",
    "    def __init__(self):\n",
    "        self.value = 0\n",
    "\n",
    "    def add(self, val):\n",
    "        self.value += val\n",
    "        \n",
    "class UpgradeCalculator(Calculator):\n",
    "    def minus(self,val):\n",
    "        self.value -= val\n",
    "cal = UpgradeCalculator()\n",
    "cal.add(10)\n",
    "cal.minus(7)\n",
    "\n",
    "print(cal.value) # 10에서 7을 뺀 3을 출력"
   ]
  },
  {
   "cell_type": "code",
   "execution_count": 6,
   "id": "06173557",
   "metadata": {},
   "outputs": [
    {
     "name": "stdout",
     "output_type": "stream",
     "text": [
      "100\n"
     ]
    }
   ],
   "source": [
    "# 클래스 상속 2\n",
    "class Calculator:\n",
    "    def __init__(self):\n",
    "        self.value = 0\n",
    "\n",
    "    def add(self, val):\n",
    "        self.value += val\n",
    "class MaxLimitCalculator(Calculator):\n",
    "    def add(self,val):\n",
    "        self.value += val\n",
    "        if self.value>100:\n",
    "            self.value=100\n",
    "    \n",
    "\n",
    "cal = MaxLimitCalculator()\n",
    "cal.add(50) # 50 더하기\n",
    "cal.add(60) # 60 더하기\n",
    "\n",
    "print(cal.value) # 100 출력"
   ]
  },
  {
   "cell_type": "code",
   "execution_count": 20,
   "id": "54444fca",
   "metadata": {},
   "outputs": [
    {
     "name": "stdout",
     "output_type": "stream",
     "text": [
      "[1, 3, 8]\n",
      "[3, 6, 9, 12]\n",
      "-1\n"
     ]
    }
   ],
   "source": [
    "# filter lambda 활용\n",
    "print(list(filter(lambda x:x>0,[1, -2, 3, -5, 8, -3])))\n",
    "# map lambda 활용\n",
    "print(list(map(lambda x:x*3,[1, 2, 3, 4])))\n",
    "# max min 활용\n",
    "maxval=max([-8, 2, 7, 5, -3, 5, 0, 1])\n",
    "minval=min([-8, 2, 7, 5, -3, 5, 0, 1])\n",
    "print(maxval+minval)"
   ]
  },
  {
   "cell_type": "code",
   "execution_count": 22,
   "id": "a1c6e60a",
   "metadata": {},
   "outputs": [
    {
     "name": "stdout",
     "output_type": "stream",
     "text": [
      "5.666666666666667\n",
      "5.6667\n"
     ]
    }
   ],
   "source": [
    "# 자릿수\n",
    "print(17/3)\n",
    "print(round(17/3,4))"
   ]
  },
  {
   "cell_type": "code",
   "execution_count": null,
   "id": "37c5f6e6",
   "metadata": {},
   "outputs": [],
   "source": []
  }
 ],
 "metadata": {
  "kernelspec": {
   "display_name": "Python 3",
   "language": "python",
   "name": "python3"
  },
  "language_info": {
   "codemirror_mode": {
    "name": "ipython",
    "version": 3
   },
   "file_extension": ".py",
   "mimetype": "text/x-python",
   "name": "python",
   "nbconvert_exporter": "python",
   "pygments_lexer": "ipython3",
   "version": "3.8.8"
  }
 },
 "nbformat": 4,
 "nbformat_minor": 5
}
