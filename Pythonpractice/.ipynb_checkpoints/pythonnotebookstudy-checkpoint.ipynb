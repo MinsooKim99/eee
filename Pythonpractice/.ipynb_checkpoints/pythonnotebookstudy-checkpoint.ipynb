{
 "cells": [
  {
   "cell_type": "code",
   "execution_count": 1,
   "id": "982fe322",
   "metadata": {},
   "outputs": [
    {
     "name": "stdout",
     "output_type": "stream",
     "text": [
      "\n",
      "park 800905-*******\n",
      "kim  700905-*******\n",
      "\n"
     ]
    }
   ],
   "source": [
    "import re \n",
    "\n",
    "data = \"\"\"\n",
    "park 800905-1049118\n",
    "kim  700905-1059119\n",
    "\"\"\"\n",
    "\n",
    "pat = re.compile(\"(\\d{6})[-]\\d{7}\")\n",
    "print(pat.sub(\"\\g<1>-*******\", data))"
   ]
  },
  {
   "cell_type": "code",
   "execution_count": 37,
   "id": "84ada1ef",
   "metadata": {},
   "outputs": [
    {
     "name": "stdout",
     "output_type": "stream",
     "text": [
      "['010-1234-5678']\n",
      "qweqwe\n",
      "qweqwe\n"
     ]
    }
   ],
   "source": [
    "import re\n",
    "\n",
    "p=re.compile(\"^[0]\\d{2}-\\d{3,4}-\\d{4}\")\n",
    "m = p.findall(\"010-1234-5678,010-123-45678,031-8041-0010\")\n",
    "print(m)\n",
    "s=re.compile('[a-z]+')\n",
    "a=s.search(\"010,qweqwe,dfasdsads\")\n",
    "b=s.match(\"qweqwe dfasdsads\")\n",
    "print(a.group())\n",
    "print(b.group())\n"
   ]
  },
  {
   "cell_type": "code",
   "execution_count": 5,
   "id": "b745731b",
   "metadata": {},
   "outputs": [
    {
     "name": "stdout",
     "output_type": "stream",
     "text": [
      "['010913-5456789', '010913-5456789']\n"
     ]
    }
   ],
   "source": [
    "import re \n",
    "\n",
    "data = \"\"\"\n",
    "010913-3456789 Hong\n",
    "010913-5456789 Kim\n",
    "010913-5456789 Park\n",
    "910913-1456789 Lee\n",
    "\"\"\"\n",
    "\n",
    "p = re.compile(\"\\d{6}[-][56]\\d{6} \\w+\")\n",
    "# p = re.compile(\"\\d{6}[-][56]\\d{6}\")\n",
    "m=p.findall(data)\n",
    "print(m)"
   ]
  },
  {
   "cell_type": "code",
   "execution_count": 41,
   "id": "945c2822",
   "metadata": {},
   "outputs": [
    {
     "data": {
      "text/plain": [
       "['010913-5456789']"
      ]
     },
     "execution_count": 41,
     "metadata": {},
     "output_type": "execute_result"
    }
   ],
   "source": [
    "import re\n",
    "\n",
    "p = re.compile(\"^\\d{6}[-][56]{1}\\d{6}\", re.M)\n",
    "data = \"\"\"010913-3456789 Hong\n",
    "010913-5456789 Kim  010913-5456789  Park\n",
    "910913-1456789 Lee\"\"\"\n",
    "p.findall(data)"
   ]
  },
  {
   "cell_type": "code",
   "execution_count": 6,
   "id": "560fb5cb",
   "metadata": {},
   "outputs": [
    {
     "name": "stdout",
     "output_type": "stream",
     "text": [
      "[[[0. 0. 2. 0. 0. 0. 0. 0. 0. 0.]\n",
      "  [1. 1. 1. 1. 1. 1. 1. 1. 1. 1.]\n",
      "  [0. 0. 0. 0. 0. 0. 0. 0. 0. 0.]\n",
      "  [0. 0. 0. 0. 0. 0. 0. 0. 0. 0.]\n",
      "  [0. 0. 0. 0. 0. 0. 0. 0. 0. 0.]]\n",
      "\n",
      " [[0. 0. 0. 0. 0. 0. 0. 0. 0. 0.]\n",
      "  [0. 0. 0. 0. 0. 0. 0. 0. 0. 0.]\n",
      "  [0. 0. 0. 0. 0. 0. 0. 0. 0. 0.]\n",
      "  [0. 0. 0. 0. 0. 0. 0. 0. 0. 0.]\n",
      "  [0. 0. 0. 0. 0. 0. 0. 0. 0. 0.]]]\n",
      "1.0\n"
     ]
    }
   ],
   "source": [
    "import numpy as np\n",
    "x=np.zeros(10)\n",
    "#print(x)\n",
    "y=np.zeros((2,5,10)) # 3차원 5줄 10개짜리 배열\n",
    "#print(y)\n",
    "y[0][0][2]=2\n",
    "#print(y)\n",
    "y[0][1]=1\n",
    "print(y)\n",
    "print(y[0][1].mean()) # 한 행의 평균\n"
   ]
  },
  {
   "cell_type": "code",
   "execution_count": 13,
   "id": "4fad7995",
   "metadata": {},
   "outputs": [
    {
     "name": "stdout",
     "output_type": "stream",
     "text": [
      "[[ 1  4  7 10 13 16 19 22 25 28 31]\n",
      " [34 37 40 43 46 49 52 55 58 61 64]\n",
      " [67 70 73 76 79 82 85 88 91 94 97]]\n",
      "\n",
      "[[34 37 40 43 46 49 52 55 58 61 64]\n",
      " [67 70 73 76 79 82 85 88 91 94 97]]\n"
     ]
    }
   ],
   "source": [
    "x=np.array([x for x in range(0,100) if x%3==1]).reshape(3,11)\n",
    "print(x)\n",
    "print()\n",
    "print(x[:][1:])"
   ]
  },
  {
   "cell_type": "code",
   "execution_count": 21,
   "id": "c52d154a",
   "metadata": {},
   "outputs": [
    {
     "name": "stdout",
     "output_type": "stream",
     "text": [
      "[[ 0  1  2  3  4]\n",
      " [ 5  6  7  8  9]\n",
      " [10 11 12 13 14]\n",
      " [15 16 17 18 19]]\n",
      "\n",
      "[[ 7  8]\n",
      " [12 13]]\n",
      "\n",
      "[7 8]\n"
     ]
    }
   ],
   "source": [
    "print(np.array([i for i in range(0,20)]).reshape(4,5))\n",
    "print()\n",
    "print(np.array([i for i in range(0,20)]).reshape(4,5)[1:3,2:4])\n",
    "print()\n",
    "print(np.array([i for i in range(0,20)]).reshape(4,5)[1][2:4])"
   ]
  },
  {
   "cell_type": "code",
   "execution_count": 54,
   "id": "21b192c3",
   "metadata": {},
   "outputs": [
    {
     "name": "stdout",
     "output_type": "stream",
     "text": [
      "[1.0, 2.0, 3.0, 4.0, 5.0]\n",
      "[16, 25]\n"
     ]
    }
   ],
   "source": [
    "np.sqrt(x).reshape(3,11)\n",
    "print(list(map(np.sqrt,[1,4,9,16,25])))\n",
    "print(list(filter(lambda x:x>10,[1,4,9,16,25])))"
   ]
  },
  {
   "cell_type": "code",
   "execution_count": 32,
   "id": "163ee2fb",
   "metadata": {},
   "outputs": [
    {
     "data": {
      "text/plain": [
       "array([[ 1, 34, 67],\n",
       "       [ 4, 37, 70],\n",
       "       [ 7, 40, 73],\n",
       "       [10, 43, 76],\n",
       "       [13, 46, 79],\n",
       "       [16, 49, 82],\n",
       "       [19, 52, 85],\n",
       "       [22, 55, 88],\n",
       "       [25, 58, 91],\n",
       "       [28, 61, 94],\n",
       "       [31, 64, 97]])"
      ]
     },
     "execution_count": 32,
     "metadata": {},
     "output_type": "execute_result"
    }
   ],
   "source": [
    "x.transpose()"
   ]
  },
  {
   "cell_type": "code",
   "execution_count": 56,
   "id": "07078740",
   "metadata": {},
   "outputs": [
    {
     "name": "stdout",
     "output_type": "stream",
     "text": [
      "[10 10  3  4  5]\n",
      "[1 2]\n"
     ]
    }
   ],
   "source": [
    "import numpy as np\n",
    "a=np.array([1,2,3,4,5])\n",
    "b=a[a<3]\n",
    "a[a<3]=10\n",
    "print(a)\n",
    "print(b)"
   ]
  },
  {
   "cell_type": "code",
   "execution_count": 38,
   "id": "9c50a323",
   "metadata": {},
   "outputs": [
    {
     "name": "stdout",
     "output_type": "stream",
     "text": [
      "[[123 200 142 200 200 144 200 200 146 200 200 200 112 200 200 200 118 144\n",
      "  200 111]\n",
      " [200 200 200 200 106 147 200 148 200 126 200 118 130 113 200 103 200 200\n",
      "  200 121]\n",
      " [200 101 200 200 200 200 200 200 108 105 200 200 147 140 134 139 200 200\n",
      "  111 200]\n",
      " [200 200 200 137 141 101 200 200 200 111 107 114 200 200 132 133 112 127\n",
      "  200 200]\n",
      " [200 117 200 143 200 200 200 113 147 134 136 200 200 117 200 131 200 200\n",
      "  200 118]\n",
      " [124 200 200 200 200 200 132 200 148 200 150 200 120 135 116 200 200 200\n",
      "  200 134]\n",
      " [132 134 147 200 102 106 147 135 200 200 200 130 125 101 200 126 200 200\n",
      "  200 200]\n",
      " [200 105 200 140 100 101 104 200 200 200 130 109 148 143 147 200 200 200\n",
      "  200 136]\n",
      " [200 200 123 149 200 143 149 123 200 200 200 200 104 127 200 136 137 116\n",
      "  200 200]\n",
      " [103 200 200 134 119 200 200 110 139 200 102 108 111 120 200 146 141 200\n",
      "  200 149]]\n"
     ]
    }
   ],
   "source": [
    "import random\n",
    "a=np.array([random.randint(100,201) for x in range(1,201)]).reshape(10,20)\n",
    "a[a>150]=200\n",
    "print(a)"
   ]
  },
  {
   "cell_type": "code",
   "execution_count": 39,
   "id": "8317b455",
   "metadata": {},
   "outputs": [
    {
     "name": "stdout",
     "output_type": "stream",
     "text": [
      "[array(['D', 'J'], dtype='<U11'), array(['H', '2'], dtype='<U11'), array(['D', '7'], dtype='<U11'), array(['C', 'J'], dtype='<U11'), array(['C', '7'], dtype='<U11'), array(['D', '2'], dtype='<U11'), array(['S', '8'], dtype='<U11')]\n"
     ]
    }
   ],
   "source": [
    "a=['H','C','S','D']\n",
    "b=[1,2,3,4,5,6,7,8,9,10,'J','K','Q']\n",
    "card=np.array([(x,y) for x in a for y in b])\n",
    "#print(card)\n",
    "answer=[random.choice(card) for x in range(0,7)]\n",
    "print(answer)"
   ]
  },
  {
   "cell_type": "markdown",
   "id": "05185eda",
   "metadata": {},
   "source": [
    "#50. Write a NumPy program to create a 4x4 array with random values, now create a new array from the said array swapping first and last rows."
   ]
  },
  {
   "cell_type": "code",
   "execution_count": 28,
   "id": "21c6aa26",
   "metadata": {},
   "outputs": [
    {
     "name": "stdout",
     "output_type": "stream",
     "text": [
      "[[10  0  7 13]\n",
      " [14 14  7  6]\n",
      " [ 4 13  2  1]\n",
      " [ 5 15 14  9]]\n",
      "[[ 5 15 14  9]\n",
      " [14 14  7  6]\n",
      " [ 4 13  2  1]\n",
      " [10  0  7 13]]\n",
      "[[0. 0. 0. 0. 0.]\n",
      " [0. 0. 0. 0. 0.]]\n"
     ]
    }
   ],
   "source": [
    "a=np.random.randint(16,size=16).reshape(4,4)\n",
    "print(a)\n",
    "a[[0,3]]=a[[3,0]]\n",
    "print(a)\n",
    "b=np.zeros(10).reshape(2,5)\n",
    "print(b)"
   ]
  },
  {
   "cell_type": "code",
   "execution_count": 24,
   "id": "a83cffaf",
   "metadata": {},
   "outputs": [
    {
     "data": {
      "image/png": "[encoded data removed]",
      "text/plain": [
       "<Figure size 432x288 with 1 Axes>"
      ]
     },
     "metadata": {
      "needs_background": "light"
     },
     "output_type": "display_data"
    }
   ],
   "source": [
    "import matplotlib.pyplot as plt\n",
    "import numpy as np\n",
    "x=np.array([x for x in range(-10,20)])\n",
    "y1=np.array([(2*y-5) for y in range(-10,20)])\n",
    "y2=np.array([y for y in range(-10,20)])\n",
    "\n",
    "plt.plot(x,y1,'b--')\n",
    "plt.plot(x,y2,'ro')\n",
    "plt.xlabel('x')\n",
    "plt.ylabel('y')\n",
    "plt.show()"
   ]
  },
  {
   "cell_type": "markdown",
   "id": "e945f3fd",
   "metadata": {},
   "source": [
    "#다음 두 그래프를 x범위 [0, 10] 에서 다음 조건을 만족하게 그려라 \n",
    "\n",
    "(1) y = e^(x-2) + 2\n",
    "\n",
    "(2) y = (x-2)^2 \n",
    "\n",
    " \n",
    "\n",
    "x라벨: 키 - height\n",
    "\n",
    "y라벨: 체중 - weight\n",
    "\n",
    " \n",
    "\n",
    "title =  relation of height and weight \n",
    "\n",
    " \n",
    "\n",
    "그리는 범위: x[-2,11], y[-20, 20]"
   ]
  },
  {
   "cell_type": "code",
   "execution_count": 47,
   "id": "ae443883",
   "metadata": {},
   "outputs": [
    {
     "name": "stderr",
     "output_type": "stream",
     "text": [
      "C:\\Users\\82103\\anaconda3\\lib\\site-packages\\matplotlib\\backends\\backend_agg.py:238: RuntimeWarning: Glyph 53412 missing from current font.\n",
      "  font.set_text(s, 0.0, flags=flags)\n",
      "C:\\Users\\82103\\anaconda3\\lib\\site-packages\\matplotlib\\backends\\backend_agg.py:238: RuntimeWarning: Glyph 52404 missing from current font.\n",
      "  font.set_text(s, 0.0, flags=flags)\n",
      "C:\\Users\\82103\\anaconda3\\lib\\site-packages\\matplotlib\\backends\\backend_agg.py:238: RuntimeWarning: Glyph 51473 missing from current font.\n",
      "  font.set_text(s, 0.0, flags=flags)\n",
      "C:\\Users\\82103\\anaconda3\\lib\\site-packages\\matplotlib\\backends\\backend_agg.py:201: RuntimeWarning: Glyph 53412 missing from current font.\n",
      "  font.set_text(s, 0, flags=flags)\n",
      "C:\\Users\\82103\\anaconda3\\lib\\site-packages\\matplotlib\\backends\\backend_agg.py:201: RuntimeWarning: Glyph 52404 missing from current font.\n",
      "  font.set_text(s, 0, flags=flags)\n",
      "C:\\Users\\82103\\anaconda3\\lib\\site-packages\\matplotlib\\backends\\backend_agg.py:201: RuntimeWarning: Glyph 51473 missing from current font.\n",
      "  font.set_text(s, 0, flags=flags)\n"
     ]
    },
    {
     "data": {
      "image/png": "[encoded data removed]",
      "text/plain": [
       "<Figure size 432x288 with 1 Axes>"
      ]
     },
     "metadata": {
      "needs_background": "light"
     },
     "output_type": "display_data"
    }
   ],
   "source": [
    "import matplotlib.pyplot as plt\n",
    "import numpy as np\n",
    "x=np.array([x for x in range(0,11)])\n",
    "y1=np.array([(np.exp(y-2)+2) for y in x])\n",
    "y2=np.array([(y-2)**2 for y in x])\n",
    "\n",
    "plt.plot(x,y1,'b--',marker='*')\n",
    "plt.plot(x,y2,'r-')\n",
    "plt.axis([-2,11,-20,20])\n",
    "plt.xlabel('키 - height')\n",
    "plt.ylabel('체중-weight')\n",
    "plt.title('relation of height and weight')\n",
    "plt.show()"
   ]
  },
  {
   "cell_type": "code",
   "execution_count": 51,
   "id": "ae8cfef6",
   "metadata": {},
   "outputs": [
    {
     "data": {
      "image/png": "[encoded data removed]",
      "text/plain": [
       "<Figure size 432x288 with 1 Axes>"
      ]
     },
     "metadata": {
      "needs_background": "light"
     },
     "output_type": "display_data"
    }
   ],
   "source": [
    "import numpy as np\n",
    "import matplotlib.pyplot as plt\n",
    "x=np.random.rand(50)\n",
    "y=x+np.random.rand(50)\n",
    "colors=np.random.rand(50)\n",
    "shape=np.pi*(np.random.rand(50)*20)**2\n",
    "plt.scatter(x,y,s=shape,c=colors,marker='*',alpha=0.7)\n",
    "plt.show()"
   ]
  },
  {
   "cell_type": "code",
   "execution_count": 2,
   "id": "0a052604",
   "metadata": {},
   "outputs": [
    {
     "data": {
      "image/png": "[encoded data removed]",
      "text/plain": [
       "<Figure size 432x288 with 1 Axes>"
      ]
     },
     "metadata": {
      "needs_background": "light"
     },
     "output_type": "display_data"
    }
   ],
   "source": [
    "import numpy as np\n",
    "import matplotlib.pyplot as plt\n",
    "x = np.random.rand(100)\n",
    "y = x+np.random.rand(100)\n",
    "colors = np.random.rand(100)\n",
    "shape = np.pi * (np.random.rand(100)*20) **2\n",
    "plt.scatter(x,y, s=shape, c=colors, marker='.', alpha=0.7)\n",
    "plt.show()"
   ]
  },
  {
   "cell_type": "code",
   "execution_count": 69,
   "id": "49319536",
   "metadata": {},
   "outputs": [
    {
     "name": "stdout",
     "output_type": "stream",
     "text": [
      "RangeIndex(start=0, stop=4, step=1)\n",
      "[4 1 2 3]\n"
     ]
    }
   ],
   "source": [
    "import pandas as pd\n",
    "x=pd.Series([4,1,2,3])\n",
    "print(x.index)\n",
    "print(x.values)"
   ]
  },
  {
   "cell_type": "code",
   "execution_count": 70,
   "id": "5e6bc0b0",
   "metadata": {},
   "outputs": [
    {
     "name": "stdout",
     "output_type": "stream",
     "text": [
      "[0, 1, 2, 3]\n",
      "[1, 2, 3, 4]\n",
      "0    4\n",
      "1    1\n",
      "2    2\n",
      "3    3\n",
      "dtype: int64\n"
     ]
    }
   ],
   "source": [
    "print(sorted(x.index))\n",
    "print(sorted(x.values))\n",
    "x.reindex(sorted(x.values))\n",
    "print(x)"
   ]
  },
  {
   "cell_type": "markdown",
   "id": "1b8aff02",
   "metadata": {},
   "source": [
    "아래 데이터를 Series로 만든 후, 모든 글자를 대문자로 변경하는 프로그램을 작성하시오. \n",
    "\n",
    " \n",
    "\n",
    "Original Series:\n",
    "\n",
    "-------------\n",
    "\n",
    "0 php\n",
    "1 python\n",
    "2 java\n",
    "3 c#"
   ]
  },
  {
   "cell_type": "code",
   "execution_count": 29,
   "id": "b8d16b2c",
   "metadata": {},
   "outputs": [
    {
     "data": {
      "text/plain": [
       "0    PYTHON\n",
       "1       PHP\n",
       "2      JAVA\n",
       "3        C#\n",
       "dtype: object"
      ]
     },
     "execution_count": 29,
     "metadata": {},
     "output_type": "execute_result"
    }
   ],
   "source": [
    "import pandas as pd\n",
    "a=pd.Series(['python','php','java','c#'],index=[0,1,2,3])\n",
    "a.apply(lambda a:a.upper())"
   ]
  },
  {
   "cell_type": "markdown",
   "id": "d9e35549",
   "metadata": {},
   "source": [
    "#다음의 시리즈를 만들어, Series (1)의 문자열과 연결한 Series를 만들어 출력하시오. \n",
    "\n",
    " \n",
    "\n",
    "Series 데이터\n",
    "\n",
    "--------\n",
    "\n",
    "0 _high\n",
    "\n",
    "1 _mid\n",
    "\n",
    "2 _low\n",
    "\n",
    "3 - mid"
   ]
  },
  {
   "cell_type": "code",
   "execution_count": 20,
   "id": "fc82df8c",
   "metadata": {},
   "outputs": [
    {
     "name": "stdout",
     "output_type": "stream",
     "text": [
      "0    python high\n",
      "1        php mid\n",
      "2       java low\n",
      "3         c# mid\n",
      "dtype: object\n"
     ]
    }
   ],
   "source": [
    "b=pd.Series(['high','mid','low','mid'])\n",
    "print(a+' '+b)"
   ]
  },
  {
   "cell_type": "markdown",
   "id": "7ca5498f",
   "metadata": {},
   "source": [
    "# 첨부한 교통사고데이터 파일을 DataFrame으로 읽어들이고, \n",
    "\n",
    "# 다음 각 컬럼의 총합을 구하여 출력하라. (Series 혹은 DataFrame 으로)"
   ]
  },
  {
   "cell_type": "code",
   "execution_count": 31,
   "id": "efda0a76",
   "metadata": {},
   "outputs": [
    {
     "name": "stdout",
     "output_type": "stream",
     "text": [
      "   시도  시군구  발생건수  사망자수  부상자수  중상  경상  부상신고\n",
      "0  서울  성북구     1     0     1   0   0     1\n",
      "1  서울  강서구     1     0     2   1   1     0\n",
      "2  서울  강남구     1     0     1   1   0     0\n",
      "3  서울  강동구    37     1    85  10  60    15\n",
      "4  서울  송파구    24     1    49   5  38     6\n",
      "발생건수    4079\n",
      "사망자수     252\n",
      "부상자수    8913\n",
      "중상      1949\n",
      "경상      6135\n",
      "부상신고     829\n",
      "dtype: int64\n"
     ]
    }
   ],
   "source": [
    "v=pd.read_csv('도로교통공단_부문별_고속도로_교통사고_20181231.csv')\n",
    "print(v.head())\n",
    "#print(v[['발생건수','사망자수','부상자수','중상','경상','부상신고']].sum())\n",
    "print((pd.DataFrame(v,columns=['발생건수','사망자수','부상자수','중상','경상','부상신고'])).sum())"
   ]
  },
  {
   "cell_type": "code",
   "execution_count": null,
   "id": "387fc693",
   "metadata": {},
   "outputs": [],
   "source": []
  }
 ],
 "metadata": {
  "kernelspec": {
   "display_name": "Python 3",
   "language": "python",
   "name": "python3"
  },
  "language_info": {
   "codemirror_mode": {
    "name": "ipython",
    "version": 3
   },
   "file_extension": ".py",
   "mimetype": "text/x-python",
   "name": "python",
   "nbconvert_exporter": "python",
   "pygments_lexer": "ipython3",
   "version": "3.8.8"
  }
 },
 "nbformat": 4,
 "nbformat_minor": 5
}
