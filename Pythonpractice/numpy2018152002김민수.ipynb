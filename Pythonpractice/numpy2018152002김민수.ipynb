{
 "cells": [
  {
   "cell_type": "markdown",
   "id": "781193d5",
   "metadata": {},
   "source": [
    "#2 Write a NumPy program to get help on the add function."
   ]
  },
  {
   "cell_type": "markdown",
   "id": "2e88acc4",
   "metadata": {},
   "source": [
    "#add(x1, x2[, out])\n",
    "\n",
    "Add arguments element-wise.\n",
    "\n",
    "Parameters\n",
    "----------\n",
    "x1, x2 : array_like\n",
    "    The arrays to be added.  If ``x1.shape != x2.shape``, they must be\n",
    "    broadcastable to a common shape (which may be the shape of one or\n",
    "    the other).\n",
    "\n",
    "Returns\n",
    "-------\n",
    "add : ndarray or scalar\n",
    "    The sum of `x1` and `x2`, element-wise.  Returns a scalar if\n",
    "    both  `x1` and `x2` are scalars.\n",
    "\n",
    "Notes\n",
    "-----\n",
    "Equivalent to `x1` + `x2` in terms of array broadcasting."
   ]
  },
  {
   "cell_type": "code",
   "execution_count": 2,
   "id": "1e4ee2a6",
   "metadata": {},
   "outputs": [
    {
     "name": "stdout",
     "output_type": "stream",
     "text": [
      "5\n"
     ]
    }
   ],
   "source": [
    "import numpy as np\n",
    "print(np.add(2,3))"
   ]
  },
  {
   "cell_type": "markdown",
   "id": "f4aebdee",
   "metadata": {},
   "source": [
    "#12. Write a NuqmPy program to create an array with the values 1, 7, 13, 105 and determine the size of the memory occupied by the array."
   ]
  },
  {
   "cell_type": "code",
   "execution_count": 3,
   "id": "14cee761",
   "metadata": {},
   "outputs": [
    {
     "name": "stdout",
     "output_type": "stream",
     "text": [
      "4\n",
      "4\n",
      "16\n"
     ]
    }
   ],
   "source": [
    "a=np.array([1,7,13,105])\n",
    "print(a.size)\n",
    "print(a.itemsize)\n",
    "print(a.size*a.itemsize)"
   ]
  },
  {
   "cell_type": "markdown",
   "id": "6786c277",
   "metadata": {},
   "source": [
    "#22. Write a NumPy program to create a vector with values from 0 to 20 and change the sign of the numbers in the range from 9 to 15."
   ]
  },
  {
   "cell_type": "code",
   "execution_count": 42,
   "id": "157cb30d",
   "metadata": {},
   "outputs": [
    {
     "name": "stdout",
     "output_type": "stream",
     "text": [
      "[  1   2   3   4   5   6   7   8  -9 -10 -11 -12 -13 -14 -15  16  17  18\n",
      "  19  20]\n"
     ]
    }
   ],
   "source": [
    "b=np.array([x for x in range(1,21)])\n",
    "b[8:15]=-b[8:15]\n",
    "print(b)"
   ]
  },
  {
   "cell_type": "markdown",
   "id": "4b78b2f8",
   "metadata": {},
   "source": [
    "#32. Write a NumPy program to compute sum of all elements, sum of each column and sum of each row of a given array."
   ]
  },
  {
   "cell_type": "code",
   "execution_count": 5,
   "id": "338d84bd",
   "metadata": {},
   "outputs": [
    {
     "name": "stdout",
     "output_type": "stream",
     "text": [
      "[[ 1  2  3  4  5]\n",
      " [ 6  7  8  9 10]]\n",
      "요소의 합 = 55\n",
      "행의 합 = [15 40]\n",
      "열의 합 = [ 7  9 11 13 15]\n"
     ]
    }
   ],
   "source": [
    "def numpyCalc(a):\n",
    "    print(\"요소의 합 = \",end=\"\")\n",
    "    print(a.sum())\n",
    "    print(\"행의 합 = \",end=\"\")\n",
    "    print(a.sum(axis=1))\n",
    "    print(\"열의 합 = \",end=\"\")\n",
    "    print(a.sum(axis=0))\n",
    "\n",
    "print(np.array([1,2,3,4,5,6,7,8,9,10]).reshape(2,5))\n",
    "numpyCalc(np.array([1,2,3,4,5,6,7,8,9,10]).reshape(2,5))"
   ]
  },
  {
   "cell_type": "markdown",
   "id": "f2f4a56a",
   "metadata": {},
   "source": [
    "#42. Write a NumPy program to add elements in a matrix. If an element in the matrix is 0, we will not add the element below this element."
   ]
  },
  {
   "cell_type": "code",
   "execution_count": 6,
   "id": "6edc48e3",
   "metadata": {},
   "outputs": [
    {
     "name": "stdout",
     "output_type": "stream",
     "text": [
      "[1. 2. 3. 4. 0.]\n"
     ]
    }
   ],
   "source": [
    "def arrayAdd(arr,num):\n",
    "    if arr.size!=0 and arr[-1]!=0:\n",
    "        arr=np.append(arr,np.array(num))\n",
    "    elif arr.size==0:\n",
    "        arr=np.append(arr,np.array(num))\n",
    "    return arr\n",
    "ar=np.array([])\n",
    "ar=arrayAdd(ar,1)\n",
    "ar=arrayAdd(ar,2)\n",
    "ar=arrayAdd(ar,3)\n",
    "ar=arrayAdd(ar,4)\n",
    "ar=arrayAdd(ar,0)\n",
    "ar=arrayAdd(ar,5)\n",
    "print(ar)\n"
   ]
  },
  {
   "cell_type": "markdown",
   "id": "9adc8e8b",
   "metadata": {},
   "source": [
    "#52. Write a NumPy program to sort a given array by row and column in ascending order."
   ]
  },
  {
   "cell_type": "code",
   "execution_count": 11,
   "id": "b7c69bec",
   "metadata": {},
   "outputs": [
    {
     "name": "stdout",
     "output_type": "stream",
     "text": [
      "[[39  1 15 47 45 35  4 45  2  0]\n",
      " [34 36 45 48 22 13 47  6 17 14]\n",
      " [ 4 32  5 33 15 43 11 40 16 26]\n",
      " [50  1 38 29 50  0 36 31 37  2]\n",
      " [34 45 47 33 20 44 37 32 29 24]]\n",
      "원본\n",
      "[[ 0  1  2  4 15 35 39 45 45 47]\n",
      " [ 6 13 14 17 22 34 36 45 47 48]\n",
      " [ 4  5 11 15 16 26 32 33 40 43]\n",
      " [ 0  1  2 29 31 36 37 38 50 50]\n",
      " [20 24 29 32 33 34 37 44 45 47]]\n",
      "행정렬 (오름차순)\n",
      "[[ 4  1  5 29 15  0  4  6  2  0]\n",
      " [34  1 15 33 20 13 11 31 16  2]\n",
      " [34 32 38 33 22 35 36 32 17 14]\n",
      " [39 36 45 47 45 43 37 40 29 24]\n",
      " [50 45 47 48 50 44 47 45 37 26]]\n",
      "열정렬 (오름차순)\n"
     ]
    }
   ],
   "source": [
    "import numpy as np\n",
    "a=np.array([np.random.randint(51,size=50)]).reshape(5,10)\n",
    "print(a)\n",
    "print(\"원본\")\n",
    "print(np.sort(a,axis=1))\n",
    "print(\"행정렬 (오름차순)\")\n",
    "print(np.sort(a,axis=0))\n",
    "print(\"열정렬 (오름차순)\")"
   ]
  },
  {
   "cell_type": "code",
   "execution_count": null,
   "id": "543a9e2e",
   "metadata": {},
   "outputs": [],
   "source": []
  }
 ],
 "metadata": {
  "kernelspec": {
   "display_name": "Python 3",
   "language": "python",
   "name": "python3"
  },
  "language_info": {
   "codemirror_mode": {
    "name": "ipython",
    "version": 3
   },
   "file_extension": ".py",
   "mimetype": "text/x-python",
   "name": "python",
   "nbconvert_exporter": "python",
   "pygments_lexer": "ipython3",
   "version": "3.8.8"
  }
 },
 "nbformat": 4,
 "nbformat_minor": 5
}
