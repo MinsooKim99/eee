{
 "cells": [
  {
   "cell_type": "markdown",
   "id": "ancient-threat",
   "metadata": {},
   "source": [
    "# Jump2Python Chap2 Coding Test (6점 만점)"
   ]
  },
  {
   "cell_type": "markdown",
   "id": "worthy-gender",
   "metadata": {},
   "source": [
    "### 1. str,  list,  built-in functions \n",
    "아래 주어진 알파벳 text1를 이용하여  대하여 코딩하시오 "
   ]
  },
  {
   "cell_type": "code",
   "execution_count": 2,
   "id": "hazardous-beijing",
   "metadata": {
    "scrolled": true
   },
   "outputs": [],
   "source": [
    "text1 = \"\"\"Python For Beginners\n",
    "Welcome! Are you completely new to programming? If not then we presume you will be looking for information about why and how to get started with Python. Fortunately an experienced programmer in any programming language (whatever it may be) can pick up Python very quickly. It's also easy for beginners to use and learn, so jump in!\n",
    "\n",
    "Installing\n",
    "Installing Python is generally easy, and nowadays many Linux and UNIX distributions include a recent Python. Even some Windows computers (notably those from HP) now come with Python already installed. If you do need to install Python and aren't confident about the task you can find a few notes on the BeginnersGuide/Download wiki page, but installation is unremarkable on most platforms.\n",
    "\n",
    "Learning\n",
    "Before getting started, you may want to find out which IDEs and text editors are tailored to make Python editing easy, browse the list of introductory books, or look at code samples that you might find helpful.\n",
    "\n",
    "There is a list of tutorials suitable for experienced programmers on the BeginnersGuide/Tutorials page. There is also a list of resources in other languages which might be useful if English is not your first language.\n",
    "\n",
    "The online documentation is your first port of call for definitive information. There is a fairly brief tutorial that gives you basic information about the language and gets you started. You can follow this by looking at the library reference for a full description of Python's many libraries and the language reference for a complete (though somewhat dry) explanation of Python's syntax. If you are looking for common Python recipes and patterns, you can browse the ActiveState Python Cookbook\n",
    "\n",
    "Looking for Something Specific?\n",
    "If you want to know whether a particular application, or a library with particular functionality, is available in Python there are a number of possible sources of information. The Python web site provides a Python Package Index (also known as the Cheese Shop, a reference to the Monty Python script of that name). There is also a search page for a number of sources of Python-related information. Failing that, just Google for a phrase including the word ''python'' and you may well get the result you need. If all else fails, ask on the python newsgroup and there's a good chance someone will put you on the right track.\n",
    "\n",
    "Frequently Asked Questions\n",
    "If you have a question, it's a good idea to try the FAQ, which answers the most commonly asked questions about Python.\n",
    "\n",
    "Looking to Help?\n",
    "If you want to help to develop Python, take a look at the developer area for further information. Please note that you don't have to be an expert programmer to help. The documentation is just as important as the compiler, and still needs plenty of work!\n",
    "\"\"\""
   ]
  },
  {
   "cell_type": "markdown",
   "id": "local-iceland",
   "metadata": {},
   "source": [
    "#### 1.1. text1에서 'o', 'a' 모두 보다 출현회수가 많은 (알파벳과 출현횟수)를 출력하시오. (1.5점) "
   ]
  },
  {
   "cell_type": "code",
   "execution_count": 15,
   "id": "cardiac-assurance",
   "metadata": {},
   "outputs": [
    {
     "data": {
      "text/plain": [
       "392"
      ]
     },
     "execution_count": 15,
     "metadata": {},
     "output_type": "execute_result"
    }
   ],
   "source": [
    "count=text1.count('a')+text1.count('o')\n",
    "text1.count('b')"
   ]
  },
  {
   "cell_type": "markdown",
   "id": "pretty-fitting",
   "metadata": {},
   "source": [
    "text1을 white space (스페이스, 탭, 뉴라인)로 분리하여 생성한 각 단어에서\n",
    "글자수가 5 이상인 단어로 구성된 리스트(wordslist) 를 이용하여 코딩하시오\n",
    "\n",
    "#### 1.2 wordslist에서 15번째 단어를 출력하시오. (1.5점)\n"
   ]
  },
  {
   "cell_type": "code",
   "execution_count": 4,
   "id": "numerous-naples",
   "metadata": {},
   "outputs": [
    {
     "name": "stdout",
     "output_type": "stream",
     "text": [
      "['Python', 'Beginners', 'Welcome!', 'completely', 'programming?', 'presume', 'looking', 'information', 'about', 'started', 'Python.', 'Fortunately', 'experienced', 'programmer', 'programming', 'language', '(whatever', 'Python', 'quickly.', 'beginners', 'learn,', 'Installing', 'Installing', 'Python', 'generally', 'easy,', 'nowadays', 'Linux', 'distributions', 'include', 'recent', 'Python.', 'Windows', 'computers', '(notably', 'those', 'Python', 'already', 'installed.', 'install', 'Python', \"aren't\", 'confident', 'about', 'notes', 'BeginnersGuide/Download', 'page,', 'installation', 'unremarkable', 'platforms.', 'Learning', 'Before', 'getting', 'started,', 'which', 'editors', 'tailored', 'Python', 'editing', 'easy,', 'browse', 'introductory', 'books,', 'samples', 'might', 'helpful.', 'There', 'tutorials', 'suitable', 'experienced', 'programmers', 'BeginnersGuide/Tutorials', 'page.', 'There', 'resources', 'other', 'languages', 'which', 'might', 'useful', 'English', 'first', 'language.', 'online', 'documentation', 'first', 'definitive', 'information.', 'There', 'fairly', 'brief', 'tutorial', 'gives', 'basic', 'information', 'about', 'language', 'started.', 'follow', 'looking', 'library', 'reference', 'description', \"Python's\", 'libraries', 'language', 'reference', 'complete', '(though', 'somewhat', 'explanation', \"Python's\", 'syntax.', 'looking', 'common', 'Python', 'recipes', 'patterns,', 'browse', 'ActiveState', 'Python', 'Cookbook', 'Looking', 'Something', 'Specific?', 'whether', 'particular', 'application,', 'library', 'particular', 'functionality,', 'available', 'Python', 'there', 'number', 'possible', 'sources', 'information.', 'Python', 'provides', 'Python', 'Package', 'Index', '(also', 'known', 'Cheese', 'Shop,', 'reference', 'Monty', 'Python', 'script', 'name).', 'There', 'search', 'number', 'sources', 'Python-related', 'information.', 'Failing', 'that,', 'Google', 'phrase', 'including', \"''python''\", 'result', 'need.', 'fails,', 'python', 'newsgroup', \"there's\", 'chance', 'someone', 'right', 'track.', 'Frequently', 'Asked', 'Questions', 'question,', 'which', 'answers', 'commonly', 'asked', 'questions', 'about', 'Python.', 'Looking', 'Help?', 'develop', 'Python,', 'developer', 'further', 'information.', 'Please', \"don't\", 'expert', 'programmer', 'help.', 'documentation', 'important', 'compiler,', 'still', 'needs', 'plenty', 'work!']\n",
      "programming\n"
     ]
    }
   ],
   "source": [
    "wordslist=text1.split()\n",
    "wordslist5=list(filter(lambda x:len(x)>=5,wordslist))\n",
    "print(wordslist5)\n",
    "print(wordslist5[14])"
   ]
  },
  {
   "cell_type": "markdown",
   "id": "cutting-xerox",
   "metadata": {},
   "source": [
    "### 2. str, dictionary, etc \n",
    "1번문제 text1 문자열를 모두 소문자로 변환후, white space로 단어로 분리하고, \n",
    "딕셔너리를 이용하여 문제를 푸시오. \n",
    "\n",
    "예) 단어의 첫글자를 key, 그 키로 시작하는 단어들의 리스트를 value 로 하는 딕셔너리 \n",
    "\n",
    "\n",
    "#### 2.1.  첫글자로 출현하지 않은 알파벳을 모두 알파벳 순서대로 출력하시오. (예: z) (1.5점)\n"
   ]
  },
  {
   "cell_type": "code",
   "execution_count": 5,
   "id": "distant-segment",
   "metadata": {},
   "outputs": [
    {
     "name": "stdout",
     "output_type": "stream",
     "text": [
      "[\"'\", '(', 'a', 'b', 'c', 'd', 'e', 'f', 'g', 'h', 'i', 'j', 'k', 'l', 'm', 'n', 'o', 'p', 'q', 'r', 's', 't', 'u', 'v', 'w', 'y']\n",
      "['x', 'z']\n"
     ]
    }
   ],
   "source": [
    "text2=text1.lower()\n",
    "textlist=text2.split()\n",
    "listlen=len(textlist)\n",
    "textspace={textlist[i][0]:textlist[i] for i in range(0,listlen)}\n",
    "#print(textspace)\n",
    "textlist=list()\n",
    "for x in textspace.keys():\n",
    "    textlist.append(x)\n",
    "textlist.sort()\n",
    "print(textlist)\n",
    "textset=set(textlist)\n",
    "alpha={'a','b','c','d','e','f','g','h','i','j','k','l','m','n','o','p','q','r','s','t','u','v','w','x','y','z'}\n",
    "print(sorted(alpha-textset))\n"
   ]
  },
  {
   "cell_type": "markdown",
   "id": "municipal-comparison",
   "metadata": {},
   "source": [
    "#### 2.2.  'd'로 시작하는 단어들을 출력하시오. (1.5점) "
   ]
  },
  {
   "cell_type": "code",
   "execution_count": 9,
   "id": "powered-edward",
   "metadata": {},
   "outputs": [
    {
     "name": "stdout",
     "output_type": "stream",
     "text": [
      "['distributions', 'do', 'documentation', 'definitive', 'description', 'dry)', 'develop', 'developer', \"don't\", 'documentation']\n"
     ]
    }
   ],
   "source": [
    "#textspacelen=len(textspace)\n",
    "#for x in range(0,textspacelen):\n",
    "#    if textspace.keys()=='d':\n",
    "#        a.append(textspace[x])\n",
    "print(list(filter(lambda x:x[0]=='d',wordslist)))"
   ]
  },
  {
   "cell_type": "code",
   "execution_count": null,
   "id": "brilliant-quantity",
   "metadata": {},
   "outputs": [],
   "source": []
  }
 ],
 "metadata": {
  "kernelspec": {
   "display_name": "Python 3",
   "language": "python",
   "name": "python3"
  },
  "language_info": {
   "codemirror_mode": {
    "name": "ipython",
    "version": 3
   },
   "file_extension": ".py",
   "mimetype": "text/x-python",
   "name": "python",
   "nbconvert_exporter": "python",
   "pygments_lexer": "ipython3",
   "version": "3.8.8"
  }
 },
 "nbformat": 4,
 "nbformat_minor": 5
}
