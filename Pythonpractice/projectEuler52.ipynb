{
 "cells": [
  {
   "cell_type": "markdown",
   "id": "aa7db99e",
   "metadata": {},
   "source": [
    "# 숫자 125874와 이중 숫자 251748은 정확히 같은 숫자를 포함하지만 순서는 다릅니다.\n",
    "\n",
    "# 2 x , 3 x , 4 x , 5 x 및 6 x 가 동일한 자릿수를 포함 하도록 가장 작은 양의 정수 x 를 찾습니다 ."
   ]
  },
  {
   "cell_type": "code",
   "execution_count": 2,
   "id": "db941d90",
   "metadata": {},
   "outputs": [
    {
     "name": "stdout",
     "output_type": "stream",
     "text": [
      "142857\n"
     ]
    }
   ],
   "source": [
    "numlist=[2,3,4,5,6]\n",
    "x=1\n",
    "def numListCheck(x,i):       # x(1~)랑 2~6이랑 곱해서 각각숫자가 같은지 확인하는 함수\n",
    "    orgnum=str(x)            # x값을 문자화\n",
    "    mulnum=str(x*i)          # x(1~)*i(2~6)값을 문자화\n",
    "    orglist=list(orgnum)     # list로 만들어 한자리씩 분리\n",
    "    mullist=list(mulnum)     # 동일\n",
    "    if sorted(orglist)==sorted(mullist): # 순서가 다르면 같지않다고 하기때문에 정렬후 비교\n",
    "        return True         # 같으면 True\n",
    "    else:\n",
    "        return False       # 아니면 False\n",
    "\n",
    "answer=list()                    # 정답이 들어갈 리스트\n",
    "while not answer:               # answer에 아무것도 없으면 계속\n",
    "    for i in numlist:           # 2~6(numlist)까지 반복\n",
    "        if numListCheck(x,i):   # x(1~),i(2~6)를 넣고 x와 x*i의 정렬된 리스트값이 같은지 확인(True면 계속)\n",
    "            if i!=numlist[-1]:  # i=2부터 i=6까지 전부 확인\n",
    "                continue\n",
    "            else:               # i=6까지 전부 True로 확인됨=정답 정답을 answer리스트에 추가\n",
    "                answer.append(x)\n",
    "        else:\n",
    "            x+=1                # x가 정답이 아닐때 x++\n",
    "            break              # for반복문 탈출 => x++ 상태로 while반복문 재진입\n",
    "print(answer.pop())             # x = 142857 2x = 285714 3x = 428571 4x = 571428 5x = 714285 6x = 857142 "
   ]
  },
  {
   "cell_type": "code",
   "execution_count": null,
   "id": "216204ad",
   "metadata": {},
   "outputs": [],
   "source": []
  }
 ],
 "metadata": {
  "kernelspec": {
   "display_name": "Python 3",
   "language": "python",
   "name": "python3"
  },
  "language_info": {
   "codemirror_mode": {
    "name": "ipython",
    "version": 3
   },
   "file_extension": ".py",
   "mimetype": "text/x-python",
   "name": "python",
   "nbconvert_exporter": "python",
   "pygments_lexer": "ipython3",
   "version": "3.8.8"
  }
 },
 "nbformat": 4,
 "nbformat_minor": 5
}
