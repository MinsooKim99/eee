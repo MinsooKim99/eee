{
 "cells": [
  {
   "cell_type": "markdown",
   "id": "99758cbc",
   "metadata": {},
   "source": [
    "# 3과 5의 배수 합하기"
   ]
  },
  {
   "cell_type": "code",
   "execution_count": 1,
   "id": "63951ca4",
   "metadata": {},
   "outputs": [
    {
     "name": "stdout",
     "output_type": "stream",
     "text": [
      "234168\n"
     ]
    }
   ],
   "source": [
    "result=0\n",
    "for x in range(1,1000): # 1부터 1000미만까지\n",
    "    if x%3==0 or x%5==0:\n",
    "        result+=x\n",
    "print(result)"
   ]
  },
  {
   "cell_type": "code",
   "execution_count": null,
   "id": "3c922fe2",
   "metadata": {},
   "outputs": [],
   "source": []
  }
 ],
 "metadata": {
  "kernelspec": {
   "display_name": "Python 3",
   "language": "python",
   "name": "python3"
  },
  "language_info": {
   "codemirror_mode": {
    "name": "ipython",
    "version": 3
   },
   "file_extension": ".py",
   "mimetype": "text/x-python",
   "name": "python",
   "nbconvert_exporter": "python",
   "pygments_lexer": "ipython3",
   "version": "3.8.8"
  }
 },
 "nbformat": 4,
 "nbformat_minor": 5
}
