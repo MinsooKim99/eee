{
 "cells": [
  {
   "cell_type": "markdown",
   "id": "63f63df8",
   "metadata": {},
   "source": [
    "# 간단한 메모장 만들기"
   ]
  },
  {
   "cell_type": "code",
   "execution_count": 1,
   "id": "9cacfa89",
   "metadata": {},
   "outputs": [
    {
     "name": "stdout",
     "output_type": "stream",
     "text": [
      "옵션을 입력하세요.-a\n",
      "내용을 입력하세요.Hello\n"
     ]
    }
   ],
   "source": [
    "import sys\n",
    "#opt=sys.argv[1]\n",
    "opt=str(input(\"옵션을 입력하세요.\"))\n",
    "memo=str(input(\"내용을 입력하세요.\"))\n",
    "if opt=='-a':\n",
    "    #memo=sys.argv[2]\n",
    "    try:\n",
    "        f=open('memo.txt','a')\n",
    "    except FileNotFoundError: # memo.txt가 없으면 생성\n",
    "        f=open('memo.txt','w')\n",
    "    finally:    \n",
    "        f.write(memo)\n",
    "        f.close()\n",
    "else:\n",
    "    print('잘못된 옵션입니다.')"
   ]
  },
  {
   "cell_type": "code",
   "execution_count": null,
   "id": "303e006e",
   "metadata": {},
   "outputs": [],
   "source": []
  }
 ],
 "metadata": {
  "kernelspec": {
   "display_name": "Python 3",
   "language": "python",
   "name": "python3"
  },
  "language_info": {
   "codemirror_mode": {
    "name": "ipython",
    "version": 3
   },
   "file_extension": ".py",
   "mimetype": "text/x-python",
   "name": "python",
   "nbconvert_exporter": "python",
   "pygments_lexer": "ipython3",
   "version": "3.8.8"
  }
 },
 "nbformat": 4,
 "nbformat_minor": 5
}
